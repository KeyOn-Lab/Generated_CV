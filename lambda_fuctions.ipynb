{
  "nbformat": 4,
  "nbformat_minor": 0,
  "metadata": {
    "colab": {
      "provenance": []
    },
    "kernelspec": {
      "name": "python3",
      "display_name": "Python 3"
    },
    "language_info": {
      "name": "python"
    }
  },
  "cells": [
    {
      "cell_type": "code",
      "execution_count": null,
      "metadata": {
        "id": "BD-z2NCrt2Ke"
      },
      "outputs": [],
      "source": [
        "import json\n",
        "import os\n",
        "import pptxSections\n",
        "import pptxTools\n",
        "import jsonProcessing\n",
        "import serverS3\n",
        "import boto3"
      ]
    },
    {
      "cell_type": "code",
      "source": [
        "def cv_creation(consultant):\n",
        "    serverS3.download_files_s3()\n",
        "    prs = pptxTools.init_pptx(7.5, 13.33)\n",
        "    slide = pptxTools.init_slide(prs)\n",
        "    pptxSections.name_section(slide, consultant)\n",
        "    if consultant.description != \"\":\n",
        "        section_height_left = section_height_right = pptxSections.description_section(slide, consultant)\n",
        "        section_height_left = pptxSections.skills_section(slide, consultant, section_height_left)\n",
        "    else:\n",
        "        section_height_left = pptxSections.skills_section(slide, consultant, 1)\n",
        "        section_height_right = 1\n",
        "    if consultant.education != []:\n",
        "        section_height_left = pptxSections.education_section(slide, consultant, section_height_left)\n",
        "    if consultant.sectors != []:\n",
        "        pptxSections.sectors_section(slide, consultant, section_height_left)\n",
        "    pptxSections.jobs_section(slide, consultant, section_height_right)\n",
        "    ppt_name = \"[mini CV - FR] \" + consultant.name + \".pptx\"\n",
        "    prs.save(ppt_name)\n",
        "    serverS3.upload_files_s3(ppt_name)"
      ],
      "metadata": {
        "id": "XxniTNAqt_DV"
      },
      "execution_count": null,
      "outputs": []
    },
    {
      "cell_type": "code",
      "source": [
        "def lambda_handler(event, context):\n",
        "    os.chdir('/tmp')\n",
        "    event_body = json.loads(event[\"body\"])\n",
        "    consultant = jsonProcessing.obj_consultant(event_body)\n",
        "    cv_creation(consultant)\n",
        "    return {\n",
        "        \"statusCode\": 200,\n",
        "        \"headers\": {\n",
        "            \"Content-Type\": \"application/json ; charset=UTF-8\"\n",
        "        },\n",
        "        \"body\": json.dumps(serverS3.create_presigned_post(consultant.name))\n",
        "    }\n"
      ],
      "metadata": {
        "id": "KapfEv9WuBKd"
      },
      "execution_count": null,
      "outputs": []
    }
  ]
}