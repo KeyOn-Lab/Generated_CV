{
  "nbformat": 4,
  "nbformat_minor": 0,
  "metadata": {
    "colab": {
      "provenance": []
    },
    "kernelspec": {
      "name": "python3",
      "display_name": "Python 3"
    },
    "language_info": {
      "name": "python"
    }
  },
  "cells": [
    {
      "cell_type": "code",
      "execution_count": 3,
      "metadata": {
        "id": "cMvDdwHlvkDN",
        "colab": {
          "base_uri": "https://localhost:8080/",
          "height": 393
        },
        "outputId": "e3066e7b-24e7-4f53-9fc5-a34907a5ce9c"
      },
      "outputs": [
        {
          "output_type": "error",
          "ename": "ModuleNotFoundError",
          "evalue": "ignored",
          "traceback": [
            "\u001b[0;31m---------------------------------------------------------------------------\u001b[0m",
            "\u001b[0;31mModuleNotFoundError\u001b[0m                       Traceback (most recent call last)",
            "\u001b[0;32m<ipython-input-3-a849138e2039>\u001b[0m in \u001b[0;36m<cell line: 4>\u001b[0;34m()\u001b[0m\n\u001b[1;32m      2\u001b[0m \u001b[0;32mimport\u001b[0m \u001b[0mmath\u001b[0m\u001b[0;34m\u001b[0m\u001b[0;34m\u001b[0m\u001b[0m\n\u001b[1;32m      3\u001b[0m \u001b[0;32mimport\u001b[0m \u001b[0mjson\u001b[0m\u001b[0;34m\u001b[0m\u001b[0;34m\u001b[0m\u001b[0m\n\u001b[0;32m----> 4\u001b[0;31m \u001b[0;32mimport\u001b[0m \u001b[0mpptx\u001b[0m\u001b[0;34m\u001b[0m\u001b[0;34m\u001b[0m\u001b[0m\n\u001b[0m\u001b[1;32m      5\u001b[0m \u001b[0;34m\u001b[0m\u001b[0m\n\u001b[1;32m      6\u001b[0m \u001b[0;32mfrom\u001b[0m \u001b[0mpptx\u001b[0m \u001b[0;32mimport\u001b[0m \u001b[0mPresentation\u001b[0m\u001b[0;34m\u001b[0m\u001b[0;34m\u001b[0m\u001b[0m\n",
            "\u001b[0;31mModuleNotFoundError\u001b[0m: No module named 'pptx'",
            "",
            "\u001b[0;31m---------------------------------------------------------------------------\u001b[0;32m\nNOTE: If your import is failing due to a missing package, you can\nmanually install dependencies using either !pip or !apt.\n\nTo view examples of installing some common dependencies, click the\n\"Open Examples\" button below.\n\u001b[0;31m---------------------------------------------------------------------------\u001b[0m\n"
          ],
          "errorDetails": {
            "actions": [
              {
                "action": "open_url",
                "actionText": "Open Examples",
                "url": "/notebooks/snippets/importing_libraries.ipynb"
              }
            ]
          }
        }
      ],
      "source": [
        "import datetime\n",
        "import math\n",
        "import json\n",
        "import pptx\n",
        "from pptx import Presentation\n",
        "from pptx.dml.color import RGBColor\n",
        "from pptx.enum.text import MSO_AUTO_SIZE\n",
        "from pptx.oxml.xmlchemy import OxmlElement\n",
        "from pptx.util import Inches, Pt"
      ]
    },
    {
      "cell_type": "code",
      "source": [
        "def load_json(json_file):\n",
        "    with open(json_file, \"r\", encoding='utf-8') as read_file:\n",
        "        return json.load(read_file, strict=False)"
      ],
      "metadata": {
        "id": "P1-MIVwWw99s"
      },
      "execution_count": 4,
      "outputs": []
    },
    {
      "cell_type": "code",
      "source": [
        "def sub_element(parent, tagname, **kwargs):\n",
        "    element = OxmlElement(tagname)\n",
        "    element.attrib.update(kwargs)\n",
        "    parent.append(element)\n",
        "    return element\n"
      ],
      "metadata": {
        "id": "eKrg1Iq-w94S"
      },
      "execution_count": 5,
      "outputs": []
    },
    {
      "cell_type": "code",
      "source": [
        "def make_para_bullet_pointed(para):\n",
        "    \"\"\"Bullets are set to Arial, actual text can be a different font\"\"\"\n",
        "    pPr = para._p.get_or_add_pPr()\n",
        "    pPr.set('marL', '164000')\n",
        "    pPr.set('indent', '-122920')\n",
        "    _ = sub_element(parent=pPr, tagname=\"a:buFont\", typeface=\"Arial\", panose=\"020B0604020202020204\", pitchFamily=\"34\", charset=\"0\" )\n",
        "    _ = sub_element(parent=pPr, tagname='a:buChar', char=\"•\")"
      ],
      "metadata": {
        "id": "OCwGTtglw9x_"
      },
      "execution_count": 6,
      "outputs": []
    },
    {
      "cell_type": "code",
      "source": [
        "def init_pptx(slide_height, slide_width):\n",
        "    prs = Presentation()\n",
        "    prs.slide_height = Inches(slide_height)\n",
        "    prs.slide_width = Inches(slide_width)\n",
        "    return prs"
      ],
      "metadata": {
        "id": "EF-QYZFlw9pS"
      },
      "execution_count": 7,
      "outputs": []
    },
    {
      "cell_type": "code",
      "source": [
        "def init_slide(prs):\n",
        "    blank_slide_layout = prs.slide_layouts[6]\n",
        "    slide = prs.slides.add_slide(blank_slide_layout)\n",
        "    slide.shapes.add_picture(\"sidebar.png\", Inches(0), Inches(0))\n",
        "    slide.shapes.add_picture(\"talan_logo.png\", Inches(11.5), Inches(0.1), width=Inches(1.5), height=Inches(0.7)) # à changer png\n",
        "    tx_box = slide.shapes.add_textbox(Inches(5.4), Inches(7.2), width=Inches(3), height=Inches(0.25))\n",
        "    tx_frame = tx_box.text_frame\n",
        "    tx_frame.word_wrap = True\n",
        "    paragraph = tx_frame.paragraphs[0]\n",
        "    date = paragraph.add_run()\n",
        "    date.text = \"Confidentiel, reproduction interdite\"\n",
        "    date.font.bold = False\n",
        "    date.font.size = Pt(9)\n",
        "    date.font.color.rgb = RGBColor(0xcd, 0xcd, 0xcd)\n",
        "    date.font.name = 'Montserrat'\n",
        "    return slide"
      ],
      "metadata": {
        "id": "hp4X6WIRw9bY"
      },
      "execution_count": 8,
      "outputs": []
    },
    {
      "cell_type": "code",
      "source": [
        "def add_title_section(tx_frame_title, txt):\n",
        "    paragraph_title = tx_frame_title.paragraphs[0]\n",
        "    title = paragraph_title.add_run()\n",
        "    title.text += txt.upper()\n",
        "    title.font.bold = True\n",
        "    title.font.size = Pt(11)\n",
        "    title.font.color.rgb = RGBColor(0x48, 0xb2, 0xda)\n",
        "    title.font.name = 'Montserrat'"
      ],
      "metadata": {
        "id": "pQ8dxnNuxGnv"
      },
      "execution_count": 9,
      "outputs": []
    },
    {
      "cell_type": "code",
      "source": [
        "def add_title_paragraph(tx_frame_title, txt):\n",
        "    paragraph_title = tx_frame_title.paragraphs[0]\n",
        "    title = paragraph_title.add_run()\n",
        "    title.text = txt\n",
        "    title.font.bold = True\n",
        "    title.font.size = Pt(10)\n",
        "    title.font.color.rgb = RGBColor(0x6a, 0x6a, 0x6a)\n",
        "    title.font.name = 'Montserrat'"
      ],
      "metadata": {
        "id": "mV27rVIexGa_"
      },
      "execution_count": 10,
      "outputs": []
    },
    {
      "cell_type": "code",
      "source": [
        "def add_bullet_paragraph(tx_frame, consultant):\n",
        "    paragraph_bullet = tx_frame.add_paragraph()\n",
        "    bullet = paragraph_bullet.add_run()\n",
        "\n",
        "    for item in consultant: \n",
        "      if consultant.index(item) == len(consultant) - 1: \n",
        "        bullet.text += item\n",
        "      else: \n",
        "        bullet.text += item + '\\n' \n",
        "        bullet.font.bold = False \n",
        "        bullet.font.size = Pt(9.5) \n",
        "        bullet.font.color.rgb = RGBColor(0x6a, 0x6a, 0x6a) \n",
        "        bullet.font.name = 'Montserrat' \n",
        "        make_para_bullet_pointed(paragraph_bullet)"
      ],
      "metadata": {
        "id": "cIFKSQPgxPXq"
      },
      "execution_count": 13,
      "outputs": []
    },
    {
      "cell_type": "code",
      "source": [
        "def make_language(slide, language_dic, x, y, width_language): \n",
        "  tx_box = slide.shapes.add_textbox(Inches(x), Inches(y), width=Inches(width_language), height=Inches(0.25)) \n",
        "  tx_frame = tx_box.text_frame \n",
        "  tx_frame.auto_size = MSO_AUTO_SIZE.SHAPE_TO_FIT_TEXT \n",
        "  tx_frame.word_wrap = False\n",
        "  \n",
        "  paragraph = tx_frame.paragraphs[0] \n",
        "  language = paragraph.add_run() \n",
        "  \n",
        "  language.text = language_dic[\"nom\"] \n",
        "  language.font.bold = False \n",
        "  language.font.size = Pt(9.5) \n",
        "  language.font.color.rgb = RGBColor(0x6a, 0x6a, 0x6a) \n",
        "  language.font.name = 'Montserrat'\n",
        "\n",
        "  x_bullet = x + width_language \n",
        "  y_bullet = y + 0.096 \n",
        "  for lvl in range(1, 6): \n",
        "    if lvl <= int(language_dic[\"niveau\"]): \n",
        "      slide.shapes.add_picture(\"bullet_on.png\", Inches(x_bullet), Inches(y_bullet)) \n",
        "    else: \n",
        "        slide.shapes.add_picture(\"bullet_off.png\", Inches(x_bullet), Inches(y_bullet)) \n",
        "        x_bullet += 0.12\n",
        "        \n",
        "  return x_bullet"
      ],
      "metadata": {
        "id": "lt_gm1IFxmrI"
      },
      "execution_count": 15,
      "outputs": []
    },
    {
      "cell_type": "code",
      "source": [
        "def align_language(consultant):\n",
        "    list_width_language = []\n",
        "    for i in consultant.language:\n",
        "        if 'i' not in i[\"nom\"]:\n",
        "            width_language = len(i[\"nom\"]) * 0.105\n",
        "            list_width_language += [width_language]\n",
        "        else:\n",
        "            width_language = len(i[\"nom\"]) * 0.1\n",
        "            list_width_language += [width_language]\n",
        "    width_left = []\n",
        "    width_right = []\n",
        "    for i in list_width_language:\n",
        "        if list_width_language.index(i) % 2 == 0:\n",
        "            width_left += [i]\n",
        "        else:\n",
        "            width_right += [i]\n",
        "    return max(width_right), max(width_left)"
      ],
      "metadata": {
        "id": "gnuiphDb0UuH"
      },
      "execution_count": 16,
      "outputs": []
    },
    {
      "cell_type": "code",
      "source": [
        "def add_language(slide, consultant, x, y):\n",
        "    p = 1\n",
        "    language = 0\n",
        "    if len(consultant.language) !=1:\n",
        "        width_right = align_language(consultant)[0]\n",
        "        width_left = align_language(consultant)[1]\n",
        "        for i in consultant.language:\n",
        "            if p == 1:\n",
        "                language = make_language(slide, i, x, y, width_left)\n",
        "            elif p == 2:\n",
        "                make_language(slide, i, language, y, width_right)\n",
        "            else:\n",
        "                y += 0.2\n",
        "                make_language(slide, i, x, y, width_left)\n",
        "            p += 1\n",
        "    else:\n",
        "        width_language = len(consultant.language[0][\"nom\"]) * 0.105 if 'i' not in consultant.language[0][\"nom\"] else len(consultant.language[0][\"nom\"]) * 0.1\n",
        "        make_language(slide, consultant.language[0], x, y, width_language)"
      ],
      "metadata": {
        "id": "zc2cHhyP0rNZ"
      },
      "execution_count": 17,
      "outputs": []
    },
    {
      "cell_type": "code",
      "source": [
        "def add_education(tx_frame, consultant):\n",
        "    paragraph_education = tx_frame.add_paragraph()\n",
        "    eduction_bullet = paragraph_education.add_run()\n",
        "    for formation in consultant.education:\n",
        "        if consultant.education.index(formation) == len(consultant.education) - 1:\n",
        "            eduction_bullet.text += formation[\"etablissement\"] + \" - \" + formation[\"diplome\"]\n",
        "        else:\n",
        "            eduction_bullet.text += formation[\"etablissement\"] + \" - \" + formation[\"diplome\"] + '\\n'\n",
        "        eduction_bullet.font.bold = False\n",
        "        eduction_bullet.font.size = Pt(9.5)\n",
        "        eduction_bullet.font.color.rgb = RGBColor(0x6a, 0x6a, 0x6a)\n",
        "        eduction_bullet.font.name = 'Montserrat'\n",
        "    make_para_bullet_pointed(paragraph_education)"
      ],
      "metadata": {
        "id": "PwIYGoBl0tgC"
      },
      "execution_count": 18,
      "outputs": []
    },
    {
      "cell_type": "code",
      "source": [
        "def add_sectors(tx_frame, consultant):\n",
        "    paragraph_sectors = tx_frame.add_paragraph()\n",
        "    sector_bullet = paragraph_sectors.add_run()\n",
        "    for sector in consultant.sectors:\n",
        "        if consultant.sectors.index(sector) == len(consultant.sectors) - 1:\n",
        "            sector_bullet.text += sector\n",
        "        else:\n",
        "            sector_bullet.text += sector + ' | '\n",
        "        sector_bullet.font.bold = False\n",
        "        sector_bullet.font.size = Pt(9.5)\n",
        "        sector_bullet.font.color.rgb = RGBColor(0x6a, 0x6a, 0x6a)\n",
        "        sector_bullet.font.name = 'Montserrat'"
      ],
      "metadata": {
        "id": "ymQyLKaQ0vwV"
      },
      "execution_count": 19,
      "outputs": []
    },
    {
      "cell_type": "code",
      "source": [
        "def make_job_section(slide, job_dic, ante_section_height): \n",
        "  section_y = ante_section_height \n",
        "  \n",
        "  tx_box = slide.shapes.add_textbox(Inches(4.5), Inches(section_y), width=Inches(8.5), height=Inches(0.2)) \n",
        "  tx_frame = tx_box.text_frame\n",
        "  tx_frame.word_wrap = True \n",
        "  \n",
        "  paragraph_sectors = tx_frame.paragraphs[0] \n",
        "  job_title = paragraph_sectors.add_run() \n",
        "  job_title.text = job_dic[\"title\"] + \"\\n\" \n",
        "  job_title.font.bold = True \n",
        "  job_title.font.size = Pt(9.5) \n",
        "  job_title.font.color.rgb = RGBColor(0x29, 0x89, 0xad) \n",
        "  job_title.font.name = 'Montserrat' \n",
        "  \n",
        "  add_date_job(slide, job_dic, section_y) \n",
        "  \n",
        "  section_y += 0.20\n",
        "  tx_box_sub = slide.shapes.add_textbox(Inches(4.5), Inches(section_y), width=Inches(8.5), height=Inches(0.2)) \n",
        "  tx_frame_sub = tx_box_sub.text_frame \n",
        "  tx_frame_sub.word_wrap = True \n",
        "  \n",
        "  paragraph_objective = tx_frame_sub.paragraphs[0] \n",
        "  job_objective = paragraph_objective.add_run() \n",
        "  job_objective.text = job_dic[\"subTitle\"] \n",
        "  job_objective.font.bold = True \n",
        "  job_objective.font.size = Pt(9.5) \n",
        "  job_objective.font.color.rgb = RGBColor(0x6a, 0x6a, 0x6a) \n",
        "  job_objective.font.name = 'Montserrat'\n",
        "  \n",
        "  section_y += 0.20 \n",
        "  return make_job_description(slide, job_dic, section_y)"
      ],
      "metadata": {
        "id": "Q8GJgVAJ0xRh"
      },
      "execution_count": 20,
      "outputs": []
    },
    {
      "cell_type": "code",
      "source": [
        "def make_job_description(slide, job_dic, ante_section_height):\n",
        "    section_y = ante_section_height\n",
        "    section_height = 0\n",
        "    \n",
        "    for lines in job_dic[\"description\"]:\n",
        "        section_height += 0.18\n",
        "        if len(lines) > 115:\n",
        "            section_height += 0.16*(math.floor(len(lines)/115))\n",
        "    \n",
        "    tx_box = slide.shapes.add_textbox(Inches(4.5), Inches(section_y), width=Inches(8.5), height=Inches(section_height))\n",
        "    tx_frame = tx_box.text_frame\n",
        "    tx_frame.word_wrap = True\n",
        "    \n",
        "    p = 0\n",
        "    for line in job_dic[\"description\"]:\n",
        "        if line == \"\":\n",
        "            pass\n",
        "        \n",
        "        if line[0] == '-':\n",
        "            if p == 0:\n",
        "                paragraph_bullet = tx_frame.paragraphs[0]\n",
        "            else:\n",
        "                paragraph_bullet = tx_frame.add_paragraph()\n",
        "            \n",
        "            bullet = paragraph_bullet.add_run()\n",
        "            bullet.text = line[2:]\n",
        "            bullet.font.bold = False\n",
        "            bullet.font.size = Pt(9.5)\n",
        "            bullet.font.color.rgb = RGBColor(0x6a, 0x6a, 0x6a)\n",
        "            bullet.font.name = 'Montserrat'\n",
        "            make_para_bullet_pointed(paragraph_bullet)\n",
        "        else:\n",
        "            if p == 0:\n",
        "                paragraph = tx_frame.paragraphs[0]\n",
        "            else:\n",
        "                paragraph = tx_frame.add_paragraph()\n",
        "            \n",
        "            description_line = paragraph.add_run()\n",
        "            description_line.text = line\n",
        "            description_line.font.bold = False\n",
        "            description_line.font.size = Pt(9.5)\n",
        "            description_line.font.color.rgb = RGBColor(0x6a, 0x6a, 0x6a)\n",
        "            description_line.font.name = 'Montserrat'\n",
        "            \n",
        "            p += 1\n",
        "            \n",
        "    return section_y+section_height"
      ],
      "metadata": {
        "id": "xvlhAVxw1yKx"
      },
      "execution_count": 22,
      "outputs": []
    },
    {
      "cell_type": "code",
      "source": [
        "def add_date_job(slide, job_dic, ante_section_height):\n",
        "    section_y = ante_section_height\n",
        "    tx_box = slide.shapes.add_textbox(Inches(10.7), Inches(section_y), width=Inches(3), height=Inches(0.25))\n",
        "    tx_frame = tx_box.text_frame\n",
        "    tx_frame.word_wrap = True\n",
        "    \n",
        "    slide.shapes.add_picture(\"date_logo.png\", Inches(10.5), Inches(section_y), width=Inches(0.2), height=Inches(0.21))\n",
        "    \n",
        "    date_cut = job_dic[\"Date\"].split(\"-\")\n",
        "    start_date = date_cut[0].split(\"/\")\n",
        "    end_date = date_cut[1].split(\"/\")\n",
        "    \n",
        "    start_date = datetime.datetime(int(start_date[1]), int(start_date[0]), 1)\n",
        "    end_date = datetime.datetime(int(end_date[1]), int(end_date[0]), 1)\n",
        "    \n",
        "    total_month_job = ((end_date.year - start_date.year) * 12 + (end_date.month - start_date.month))\n",
        "    \n",
        "    if total_month_job >= 12:\n",
        "        total_year = (total_month_job - total_month_job % 12) / 12\n",
        "        if total_month_job % 12 == 0 and total_year > 1:\n",
        "            final_date = str(int(total_year)) + \" ans\"\n",
        "        elif total_month_job % 12 == 0 and total_year == 1:\n",
        "            final_date = str(int(total_year)) + \" an\"\n",
        "        elif total_year == 1:\n",
        "            final_date = str(int(total_year)) + \" an et \" + str(total_month_job % 12) + \" mois\"\n",
        "        else:\n",
        "            final_date = str(int(total_year)) + \" ans et \" + str(total_month_job % 12) + \" mois\"\n",
        "    else:\n",
        "        final_date = str(total_month_job) + \" mois\"\n",
        "    \n",
        "    paragraph = tx_frame.paragraphs[0]\n",
        "    date = paragraph.add_run()\n",
        "    \n",
        "    if end_date < start_date:\n",
        "        date.text = str(date_cut[0].split(\"/\")[0]) + '/' + str(date_cut[0].split(\"/\")[1]) + ' - en cours'\n",
        "    else:\n",
        "        date.text = job_dic[\"Date\"] + \" - \"\n",
        "    \n",
        "    date.font.bold = False\n",
        "    date.font.size = Pt(9.5)\n",
        "    date.font.color.rgb = RGBColor(0x6a, 0x6a, 0x6a)\n",
        "    date.font.name = 'Montserrat'\n",
        "    \n",
        "    time = paragraph.add_run()\n",
        "    \n",
        "    if end_date < start_date:\n",
        "        time.text = ''\n",
        "    else:\n",
        "        time.text = final_date\n",
        "    \n",
        "    time.font.bold = False\n",
        "    time.font.size = Pt(9.5)\n",
        "    time.font.color.rgb = RGBColor(0x48, 0xb2, 0xda)\n",
        "    time.font.name = 'Montserrat'"
      ],
      "metadata": {
        "id": "_SfD1-F62JzL"
      },
      "execution_count": 23,
      "outputs": []
    },
    {
      "cell_type": "code",
      "source": [],
      "metadata": {
        "id": "LyQlKFdJ2tnv"
      },
      "execution_count": null,
      "outputs": []
    }
  ]
}