{
  "nbformat": 4,
  "nbformat_minor": 0,
  "metadata": {
    "colab": {
      "provenance": []
    },
    "kernelspec": {
      "name": "python3",
      "display_name": "Python 3"
    },
    "language_info": {
      "name": "python"
    }
  },
  "cells": [
    {
      "cell_type": "code",
      "execution_count": null,
      "metadata": {
        "id": "Oe6YvJqnupEt"
      },
      "outputs": [],
      "source": [
        "import boto3\n",
        "from botocore.exceptions import ClientError"
      ]
    },
    {
      "cell_type": "code",
      "source": [
        "def create_presigned_post(consultant_name):\n",
        "    # Generate a presigned S3 POST URL\n",
        "    s3_client = boto3.client(\n",
        "        \"s3\",\n",
        "        region_name=\"eu-west-3\",\n",
        "        aws_access_key_id=\"< HIDDEN >\",\n",
        "        aws_secret_access_key=\"< HIDDEN >\"\n",
        "    )\n",
        "    try:\n",
        "        response = s3_client.generate_presigned_url(\n",
        "            'get_object',\n",
        "            Params={\n",
        "                'Bucket': 'cvtalanppt',\n",
        "                'Key': \"[mini CV - FR] \" + consultant_name + \".pptx\"\n",
        "            },\n",
        "            ExpiresIn=3600\n",
        "        )\n",
        "        print(response)\n",
        "    except ClientError as e:\n",
        "        return None\n",
        "    # The response contains the presigned URL and required fields\n",
        "    return response"
      ],
      "metadata": {
        "id": "oblIsIgouwZz"
      },
      "execution_count": null,
      "outputs": []
    },
    {
      "cell_type": "code",
      "source": [
        "def download_files_s3():\n",
        "    key_id = \"< HIDDEN >\"\n",
        "    secret_key_id = \"< HIDDEN >\"\n",
        "    s3 = boto3.client(\n",
        "        's3',\n",
        "        aws_access_key_id=key_id,\n",
        "        aws_secret_access_key=secret_key_id\n",
        "    )\n",
        "    s3.download_file('resourcetalanppt', 'date_logo.png', 'date_logo.png')\n",
        "    s3.download_file('resourcetalanppt', 'sidebar.png', 'sidebar.png')\n",
        "    s3.download_file('resourcetalanppt', 'talan_logo.png', 'talan_logo.png')\n",
        "    s3.download_file('resourcetalanppt', 'bullet_off.png', 'bullet_off.png')\n",
        "    s3.download_file('resourcetalanppt', 'bullet_on.png', 'bullet_on.png')\n"
      ],
      "metadata": {
        "id": "srVud4SJuyh2"
      },
      "execution_count": null,
      "outputs": []
    },
    {
      "cell_type": "code",
      "source": [
        "def upload_files_s3(ppt_name):\n",
        "    key_id = \"< HIDDEN >\"\n",
        "    secret_key_id = \"< HIDDEN >\"\n",
        "    s3_resource = boto3.resource(\n",
        "        's3',\n",
        "        aws_access_key_id=key_id,\n",
        "        aws_secret_access_key=secret_key_id\n",
        "    )\n",
        "    s3_resource.Bucket('cvtalanppt').upload_file(Filename=ppt_name, Key=ppt_name)"
      ],
      "metadata": {
        "id": "ZMwsNQumu3ar"
      },
      "execution_count": null,
      "outputs": []
    }
  ]
}