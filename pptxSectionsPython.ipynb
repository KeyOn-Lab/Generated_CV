{
  "nbformat": 4,
  "nbformat_minor": 0,
  "metadata": {
    "colab": {
      "provenance": []
    },
    "kernelspec": {
      "name": "python3",
      "display_name": "Python 3"
    },
    "language_info": {
      "name": "python"
    }
  },
  "cells": [
    {
      "cell_type": "code",
      "source": [
        "!pip install python-pptx"
      ],
      "metadata": {
        "colab": {
          "base_uri": "https://localhost:8080/"
        },
        "id": "Ar47_sRdjx5q",
        "outputId": "3b780d81-a279-4ab7-ac9e-f4d891dc0aed"
      },
      "execution_count": 1,
      "outputs": [
        {
          "output_type": "stream",
          "name": "stdout",
          "text": [
            "Looking in indexes: https://pypi.org/simple, https://us-python.pkg.dev/colab-wheels/public/simple/\n",
            "Collecting python-pptx\n",
            "  Downloading python-pptx-0.6.21.tar.gz (10.1 MB)\n",
            "\u001b[2K     \u001b[90m━━━━━━━━━━━━━━━━━━━━━━━━━━━━━━━━━━━━━━━━\u001b[0m \u001b[32m10.1/10.1 MB\u001b[0m \u001b[31m43.6 MB/s\u001b[0m eta \u001b[36m0:00:00\u001b[0m\n",
            "\u001b[?25h  Preparing metadata (setup.py) ... \u001b[?25l\u001b[?25hdone\n",
            "Requirement already satisfied: lxml>=3.1.0 in /usr/local/lib/python3.10/dist-packages (from python-pptx) (4.9.2)\n",
            "Requirement already satisfied: Pillow>=3.3.2 in /usr/local/lib/python3.10/dist-packages (from python-pptx) (8.4.0)\n",
            "Collecting XlsxWriter>=0.5.7\n",
            "  Downloading XlsxWriter-3.1.0-py3-none-any.whl (152 kB)\n",
            "\u001b[2K     \u001b[90m━━━━━━━━━━━━━━━━━━━━━━━━━━━━━━━━━━━━━━━\u001b[0m \u001b[32m152.7/152.7 kB\u001b[0m \u001b[31m3.3 MB/s\u001b[0m eta \u001b[36m0:00:00\u001b[0m\n",
            "\u001b[?25hBuilding wheels for collected packages: python-pptx\n",
            "  Building wheel for python-pptx (setup.py) ... \u001b[?25l\u001b[?25hdone\n",
            "  Created wheel for python-pptx: filename=python_pptx-0.6.21-py3-none-any.whl size=470949 sha256=7014f01427c5b16fe56ac1e90f809f6985e7628fff144c383d895d8e014779b4\n",
            "  Stored in directory: /root/.cache/pip/wheels/ea/dd/74/01b3ec7256a0800b99384e9a0f7620e358afc3a51a59bf9b49\n",
            "Successfully built python-pptx\n",
            "Installing collected packages: XlsxWriter, python-pptx\n",
            "Successfully installed XlsxWriter-3.1.0 python-pptx-0.6.21\n"
          ]
        }
      ]
    },
    {
      "cell_type": "code",
      "source": [
        "import math\n",
        "from pptx.dml.color import RGBColor\n",
        "from pptx.util import Inches, Pt\n",
        "import pptx\n",
        "from pptx import Presentation"
      ],
      "metadata": {
        "id": "2D13WmKTjzpx"
      },
      "execution_count": 2,
      "outputs": []
    },
    {
      "cell_type": "code",
      "source": [
        "def name_section(slide, consultant): \n",
        "    tx_box = slide.shapes.add_textbox(Inches(0.3), Inches(0.2), width=Inches(6), height=Inches(0.75))  \n",
        "    tx_frame = tx_box.text_frame \n",
        "    tx_frame.word_wrap = True\n",
        "\n",
        "    paragraph = tx_frame.paragraphs[0] \n",
        "    name = paragraph.add_run() \n",
        "    name.text = consultant.name \n",
        "    name.font.bold = True \n",
        "    name.font.size = Pt(20) \n",
        "    name.font.color.rgb = RGBColor(0x48, 0xb2, 0xda) \n",
        "    name.font.name = 'Montserrat'\n",
        "\n",
        "    title = paragraph.add_run() \n",
        "    title.text = '\\n' + consultant.title \n",
        "    title.font.bold = True \n",
        "    title.font.size = Pt(12) \n",
        "    title.font.color.rgb = RGBColor(0x6a, 0x6a, 0x6a) \n",
        "    title.font.name = 'Montserrat'\n",
        "\n",
        "    exp = paragraph.add_run() \n",
        "    exp.text += \" - ajouter années d'experience\" \n",
        "    exp.font.bold = False \n",
        "    exp.font.size = Pt(12)\n",
        "    exp.font.color.rgb = RGBColor(0x6a, 0x6a, 0x6a) \n",
        "    exp.font.name = 'Montserrat'"
      ],
      "metadata": {
        "id": "DEJNtL71j4sq"
      },
      "execution_count": 3,
      "outputs": []
    },
    {
      "cell_type": "code",
      "source": [
        "def description_section(slide, consultant): \n",
        "  section_y = 0.85 \n",
        "  section_height = (math.ceil(len(consultant.description)/160))*0.25 \n",
        "\n",
        "  tx_box = slide.shapes.add_textbox(Inches(0.3), Inches(section_y), width=Inches(12.8), height=Inches(section_height)) \n",
        "  tx_frame = tx_box.text_frame \n",
        "  tx_frame.word_wrap = True\n",
        "\n",
        "  paragraph = tx_frame.paragraphs[0] \n",
        "  description = paragraph.add_run() \n",
        "  description.text = consultant.description \n",
        "  description.font.bold = False \n",
        "  description.font.size = Pt(11) \n",
        "  description.font.color.rgb = RGBColor(0x6a, 0x6a, 0x6a) \n",
        "  description.font.name = 'Montserrat' \n",
        "  \n",
        "  return section_height+section_y"
      ],
      "metadata": {
        "id": "rBPVwwLdknbq"
      },
      "execution_count": 4,
      "outputs": []
    },
    {
      "cell_type": "code",
      "source": [
        "def skills_section(slide, consultant, ante_section_height):\n",
        "    section_y = ante_section_height\n",
        "    tx_box = slide.shapes.add_textbox(Inches(0.3), Inches(section_y), width=Inches(4.5), height=Inches(1))\n",
        "    tx_frame = tx_box.text_frame\n",
        "    tx_frame.word_wrap = True\n",
        "    pptxTools.add_title_section(tx_frame, 'Compétences')\n",
        "    section_y = ante_section_height + 0.25\n",
        "    \n",
        "    if consultant.certification != []:\n",
        "        section_y = certification_paragraph(slide, consultant, section_y)\n",
        "    if consultant.tools != []:\n",
        "        section_y = tools_paragraph(slide, consultant, section_y)\n",
        "    if consultant.skills != []:\n",
        "        section_y = tech_skills_paragraph(slide, consultant, section_y)\n",
        "    if consultant.language != []:\n",
        "        section_y = language_paragraph(slide, consultant, section_y)\n",
        "        \n",
        "    return section_y\n"
      ],
      "metadata": {
        "id": "71h3arX0lHC6"
      },
      "execution_count": 5,
      "outputs": []
    },
    {
      "cell_type": "code",
      "source": [
        "def education_section(slide, consultant, ante_section_height):\n",
        "    section_y = ante_section_height\n",
        "    section_height = (len(consultant.education) * 0.20) + 0.23\n",
        "    \n",
        "    tx_box = slide.shapes.add_textbox(Inches(0.3), Inches(section_y), width=Inches(4.5), height=Inches(section_height))\n",
        "    tx_frame = tx_box.text_frame\n",
        "    tx_frame.word_wrap = True\n",
        "    \n",
        "    pptxTools.add_title_section(tx_frame, 'Formations')\n",
        "    pptxTools.add_education(tx_frame, consultant)\n",
        "    \n",
        "    return section_height + section_y"
      ],
      "metadata": {
        "id": "1mrYCFM8jqV0"
      },
      "execution_count": 6,
      "outputs": []
    },
    {
      "cell_type": "code",
      "source": [
        "def sectors_section(slide, consultant, ante_section_height):\n",
        "    section_y = ante_section_height\n",
        "    section_height = (len(consultant.sectors) * 0.20)\n",
        "    \n",
        "    tx_box = slide.shapes.add_textbox(Inches(0.3), Inches(section_y), width=Inches(4.5), height=Inches(section_height))\n",
        "    tx_frame = tx_box.text_frame\n",
        "    tx_frame.word_wrap = True\n",
        "\n",
        "    pptxTools.add_title_section(tx_frame, 'SECTEURS')\n",
        "    pptxTools.add_sectors(tx_frame, consultant)\n",
        "\n",
        "    return section_height + section_y"
      ],
      "metadata": {
        "id": "OM7zIU1yj3j5"
      },
      "execution_count": 7,
      "outputs": []
    },
    {
      "cell_type": "code",
      "source": [
        "def jobs_section(slide, consultant, ante_section_height):\n",
        "    section_y = ante_section_height\n",
        "\n",
        "    tx_box = slide.shapes.add_textbox(Inches(4.5), Inches(section_y), width=Inches(4.5), height=Inches(0.25))\n",
        "    tx_frame = tx_box.text_frame\n",
        "    tx_frame.word_wrap = True\n",
        "\n",
        "    pptxTools.add_title_section(tx_frame, 'EXPÉRIENCES PERTINENTES')\n",
        "    section_y += 0.25\n",
        "    \n",
        "    for job_sections in consultant.jobs:\n",
        "        section_y = pptxTools.make_job_section(slide, job_sections, section_y)"
      ],
      "metadata": {
        "id": "2wqXNjqBj7uP"
      },
      "execution_count": 8,
      "outputs": []
    },
    {
      "cell_type": "code",
      "source": [
        "def certification_paragraph(slide, consultant, ante_section_height):\n",
        "    section_y = ante_section_height\n",
        "    section_height = (len(consultant.certification)+1) * 0.17\n",
        "\n",
        "    tx_box_certifications = slide.shapes.add_textbox(Inches(0.35), Inches(section_y), width=Inches(4.5), height=Inches(section_height))\n",
        "    tx_frame_certifications = tx_box_certifications.text_frame\n",
        "    tx_frame_certifications.word_wrap = True\n",
        "\n",
        "    pptxTools.add_title_paragraph(tx_frame_certifications, 'Certifications')\n",
        "    pptxTools.add_bullet_paragraph(tx_frame_certifications, consultant.certification)\n",
        "    \n",
        "    return section_height + section_y"
      ],
      "metadata": {
        "id": "N2R9U7kakE4F"
      },
      "execution_count": 9,
      "outputs": []
    },
    {
      "cell_type": "code",
      "source": [
        "def tech_skills_paragraph(slide, consultant, ante_section_height):\n",
        "    section_y = ante_section_height\n",
        "    section_height = (len(consultant.skills) + 1) * 0.17\n",
        "\n",
        "    tx_box_tech_skills = slide.shapes.add_textbox(Inches(0.35), Inches(section_y), width=Inches(4.5), height=Inches(section_height))\n",
        "    tx_frame_tech_skills = tx_box_tech_skills.text_frame\n",
        "    tx_frame_tech_skills.word_wrap = True\n",
        "\n",
        "    pptxTools.add_title_paragraph(tx_frame_tech_skills, 'Méthodologie')\n",
        "    pptxTools.add_bullet_paragraph(tx_frame_tech_skills, consultant.skills)\n",
        "    \n",
        "    return section_height + section_y"
      ],
      "metadata": {
        "id": "w1ZJ53HMkKKX"
      },
      "execution_count": 10,
      "outputs": []
    },
    {
      "cell_type": "code",
      "source": [
        "def tools_paragraph(slide, consultant, ante_section_height):\n",
        "\n",
        "    section_y = ante_section_height\n",
        "    section_height = (len(consultant.tools) + 1) * 0.17\n",
        "\n",
        "    tx_box_tools = slide.shapes.add_textbox(Inches(0.35), Inches(section_y), width=Inches(4.5), height=Inches(section_height))\n",
        "    tx_frame_tools = tx_box_tools.text_frame\n",
        "    tx_frame_tools.word_wrap = True\n",
        "\n",
        "    pptxTools.add_title_paragraph(tx_frame_tools, 'Compétences techniques')\n",
        "    pptxTools.add_bullet_paragraph(tx_frame_tools, consultant.tools)\n",
        "    \n",
        "    return section_height + section_y"
      ],
      "metadata": {
        "id": "fhi4XaCRkNEV"
      },
      "execution_count": 11,
      "outputs": []
    },
    {
      "cell_type": "code",
      "source": [
        "def language_paragraph(slide, consultant, ante_section_height):\n",
        "   section_y = ante_section_height\n",
        "   if len(consultant.language) == 2: \n",
        "      section_height = 0.25\n",
        "   else: \n",
        "      section_height = 0.25 + ((len(consultant.language) / 2) * 0.20) \n",
        "\n",
        "   tx_box_language = slide.shapes.add_textbox(Inches(0.35), Inches(section_y), width=Inches(4.5), height=Inches(section_height)) \n",
        "   tx_frame_language = tx_box_language.text_frame\n",
        "   tx_frame_language.word_wrap = True \n",
        "\n",
        "   pptxTools.add_title_paragraph(tx_frame_language, 'Langues')\n",
        "   section_y = ante_section_height + 0.22 \n",
        "   pptxTools.add_language(slide, consultant, 0.35, section_y) \n",
        "\n",
        "   return section_y+section_height"
      ],
      "metadata": {
        "id": "YH7Q20oqkQSS"
      },
      "execution_count": 28,
      "outputs": []
    },
    {
      "cell_type": "code",
      "source": [],
      "metadata": {
        "id": "L3joyJEnkRms"
      },
      "execution_count": null,
      "outputs": []
    }
  ]
}