{
  "nbformat": 4,
  "nbformat_minor": 0,
  "metadata": {
    "colab": {
      "provenance": []
    },
    "kernelspec": {
      "name": "python3",
      "display_name": "Python 3"
    },
    "language_info": {
      "name": "python"
    }
  },
  "cells": [
    {
      "cell_type": "code",
      "execution_count": null,
      "metadata": {
        "id": "E5z9hmhyp-7h"
      },
      "outputs": [],
      "source": [
        "class Consultant:\n",
        "   def __init__(self): \n",
        "    self.name = \"\"\n",
        "    self.title = \"\" \n",
        "    self.description = \"\" \n",
        "    self.skills = [] \n",
        "    self.tools = [] \n",
        "    self.certification = [] \n",
        "    self.language = [] \n",
        "    self.education = [] \n",
        "    self.clients = [] \n",
        "    self.sectors = [] \n",
        "    self.jobs = []\n",
        "\n",
        "    def add_data(self, dico): \n",
        "      self.name = dico[\"titre\"] \n",
        "      self.title = dico[\"subtitre\"] \n",
        "      self.description = dico[\"description\"] \n",
        "      self.skills = dico[\"competences\"] \n",
        "      self.tools = dico[\"outils\"] \n",
        "      self.certification = dico[\"certifications\"] \n",
        "      self.language = dico[\"langue\"] \n",
        "      self.education = dico[\"formation\"] \n",
        "      self.clients = dico[\"clients\"] \n",
        "      self.sectors = dico[\"secteurs\"] \n",
        "      self.jobs = dico[\"experiences\"]"
      ]
    },
    {
      "cell_type": "code",
      "source": [],
      "metadata": {
        "id": "sopxlN1SqY8z"
      },
      "execution_count": null,
      "outputs": []
    }
  ]
}